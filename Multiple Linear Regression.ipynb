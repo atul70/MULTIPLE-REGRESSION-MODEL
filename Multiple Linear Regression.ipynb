{
 "cells": [
  {
   "cell_type": "markdown",
   "metadata": {},
   "source": [
    "# MULTIPLE LINEAR REGRESSION MODEL"
   ]
  },
  {
   "cell_type": "code",
   "execution_count": 1,
   "metadata": {},
   "outputs": [],
   "source": [
    "import numpy as np\n",
    "import pandas as pd\n",
    "import matplotlib.pyplot as plt\n",
    "import os\n",
    "from sklearn.metrics import r2_score"
   ]
  },
  {
   "cell_type": "code",
   "execution_count": 2,
   "metadata": {},
   "outputs": [],
   "source": [
    "os.chdir('C:\\\\Users\\\\atulk\\\\Desktop\\\\datasets')"
   ]
  },
  {
   "cell_type": "code",
   "execution_count": 3,
   "metadata": {},
   "outputs": [],
   "source": [
    "strup = pd.read_csv('25 STARTSUP.csv')"
   ]
  },
  {
   "cell_type": "code",
   "execution_count": 5,
   "metadata": {},
   "outputs": [
    {
     "data": {
      "text/html": [
       "<div>\n",
       "<style scoped>\n",
       "    .dataframe tbody tr th:only-of-type {\n",
       "        vertical-align: middle;\n",
       "    }\n",
       "\n",
       "    .dataframe tbody tr th {\n",
       "        vertical-align: top;\n",
       "    }\n",
       "\n",
       "    .dataframe thead th {\n",
       "        text-align: right;\n",
       "    }\n",
       "</style>\n",
       "<table border=\"1\" class=\"dataframe\">\n",
       "  <thead>\n",
       "    <tr style=\"text-align: right;\">\n",
       "      <th></th>\n",
       "      <th>R&amp;D SPEND</th>\n",
       "      <th>ADMINISTRATION</th>\n",
       "      <th>MARKETING SPEND</th>\n",
       "      <th>STATE</th>\n",
       "      <th>PROFIT</th>\n",
       "    </tr>\n",
       "  </thead>\n",
       "  <tbody>\n",
       "    <tr>\n",
       "      <th>0</th>\n",
       "      <td>165349.2</td>\n",
       "      <td>183631.12</td>\n",
       "      <td>71273.23</td>\n",
       "      <td>NEW YORK</td>\n",
       "      <td>231012.23</td>\n",
       "    </tr>\n",
       "    <tr>\n",
       "      <th>1</th>\n",
       "      <td>162342.3</td>\n",
       "      <td>153532.12</td>\n",
       "      <td>198322.22</td>\n",
       "      <td>CALIFORNIA</td>\n",
       "      <td>198322.12</td>\n",
       "    </tr>\n",
       "    <tr>\n",
       "      <th>2</th>\n",
       "      <td>1536232.4</td>\n",
       "      <td>753522.32</td>\n",
       "      <td>223212.23</td>\n",
       "      <td>FLORIDA</td>\n",
       "      <td>1983232.22</td>\n",
       "    </tr>\n",
       "    <tr>\n",
       "      <th>3</th>\n",
       "      <td>1447362.3</td>\n",
       "      <td>133737.13</td>\n",
       "      <td>73363.34</td>\n",
       "      <td>NEW YORK</td>\n",
       "      <td>1932211.32</td>\n",
       "    </tr>\n",
       "    <tr>\n",
       "      <th>4</th>\n",
       "      <td>135472.3</td>\n",
       "      <td>123333.23</td>\n",
       "      <td>123321.33</td>\n",
       "      <td>FLORIDA</td>\n",
       "      <td>239291.12</td>\n",
       "    </tr>\n",
       "  </tbody>\n",
       "</table>\n",
       "</div>"
      ],
      "text/plain": [
       "   R&D SPEND  ADMINISTRATION  MARKETING SPEND       STATE      PROFIT\n",
       "0   165349.2       183631.12         71273.23    NEW YORK   231012.23\n",
       "1   162342.3       153532.12        198322.22  CALIFORNIA   198322.12\n",
       "2  1536232.4       753522.32        223212.23     FLORIDA  1983232.22\n",
       "3  1447362.3       133737.13         73363.34    NEW YORK  1932211.32\n",
       "4   135472.3       123333.23        123321.33     FLORIDA   239291.12"
      ]
     },
     "execution_count": 5,
     "metadata": {},
     "output_type": "execute_result"
    }
   ],
   "source": [
    "strup.head()"
   ]
  },
  {
   "cell_type": "code",
   "execution_count": 6,
   "metadata": {},
   "outputs": [],
   "source": [
    "x=strup.iloc[:,:-1].values"
   ]
  },
  {
   "cell_type": "code",
   "execution_count": 7,
   "metadata": {},
   "outputs": [],
   "source": [
    "y=strup.iloc[:,4].values"
   ]
  },
  {
   "cell_type": "code",
   "execution_count": 8,
   "metadata": {},
   "outputs": [],
   "source": [
    "# convert string column state to numeric data\n",
    "\n",
    "from sklearn.preprocessing import OneHotEncoder,LabelEncoder\n"
   ]
  },
  {
   "cell_type": "code",
   "execution_count": 9,
   "metadata": {},
   "outputs": [],
   "source": [
    "labelenco = LabelEncoder()\n",
    "x[:,3] =labelenco.fit_transform(x[:,3])"
   ]
  },
  {
   "cell_type": "code",
   "execution_count": 10,
   "metadata": {},
   "outputs": [
    {
     "data": {
      "text/plain": [
       "array([[165349.2, 183631.12, 71273.23, 2],\n",
       "       [162342.3, 153532.12, 198322.22, 0],\n",
       "       [1536232.4, 753522.32, 223212.23, 1],\n",
       "       [1447362.3, 133737.13, 73363.34, 2],\n",
       "       [135472.3, 123333.23, 123321.33, 1],\n",
       "       [183423.3, 99876.32, 89701.11, 2],\n",
       "       [1232433.4, 193733.33, 122322.12, 0],\n",
       "       [123232.45, 12232.43, 100000.11, 1],\n",
       "       [1846372.98, 1127383.32, 773543.43, 2],\n",
       "       [238232.93, 28173.23, 34002.32, 1],\n",
       "       [374323.1, 197364.32, 165022.22, 2],\n",
       "       [1475743.03, 836343.44, 173633.32, 0],\n",
       "       [1745372.3, 727662.43, 18432.22, 2],\n",
       "       [1984637.32, 784632.32, 76432.12, 0],\n",
       "       [1564932.23, 983624.32, 198764.33, 1],\n",
       "       [187432.34, 87654.23, 98976.33, 0],\n",
       "       [186483.22, 245373.32, 235463.33, 2],\n",
       "       [1383433.1, 979835.32, 132021.44, 1],\n",
       "       [1374033.37, 1645373.32, 980453.32, 2],\n",
       "       [232223.43, 138463.23, 121012.22, 0],\n",
       "       [573843.32, 123322.32, 98643.33, 2],\n",
       "       [484833.43, 232212.32, 123321.55, 1],\n",
       "       [214732.13199999998, 232223.21, 132132.43, 1],\n",
       "       [347332.32, 138332.32, 98743.32, 2]], dtype=object)"
      ]
     },
     "execution_count": 10,
     "metadata": {},
     "output_type": "execute_result"
    }
   ],
   "source": [
    "x"
   ]
  },
  {
   "cell_type": "code",
   "execution_count": 11,
   "metadata": {},
   "outputs": [
    {
     "name": "stderr",
     "output_type": "stream",
     "text": [
      "C:\\Users\\atulk\\Anaconda3\\lib\\site-packages\\sklearn\\preprocessing\\_encoders.py:371: FutureWarning: The handling of integer data will change in version 0.22. Currently, the categories are determined based on the range [0, max(values)], while in the future they will be determined based on the unique values.\n",
      "If you want the future behaviour and silence this warning, you can specify \"categories='auto'\".\n",
      "In case you used a LabelEncoder before this OneHotEncoder to convert the categories to integers, then you can now use the OneHotEncoder directly.\n",
      "  warnings.warn(msg, FutureWarning)\n",
      "C:\\Users\\atulk\\Anaconda3\\lib\\site-packages\\sklearn\\preprocessing\\_encoders.py:392: DeprecationWarning: The 'categorical_features' keyword is deprecated in version 0.20 and will be removed in 0.22. You can use the ColumnTransformer instead.\n",
      "  \"use the ColumnTransformer instead.\", DeprecationWarning)\n"
     ]
    }
   ],
   "source": [
    "onehot = OneHotEncoder(categorical_features=[3])\n",
    "x = onehot.fit_transform(x).toarray()"
   ]
  },
  {
   "cell_type": "code",
   "execution_count": 12,
   "metadata": {},
   "outputs": [
    {
     "data": {
      "text/html": [
       "<div>\n",
       "<style scoped>\n",
       "    .dataframe tbody tr th:only-of-type {\n",
       "        vertical-align: middle;\n",
       "    }\n",
       "\n",
       "    .dataframe tbody tr th {\n",
       "        vertical-align: top;\n",
       "    }\n",
       "\n",
       "    .dataframe thead th {\n",
       "        text-align: right;\n",
       "    }\n",
       "</style>\n",
       "<table border=\"1\" class=\"dataframe\">\n",
       "  <thead>\n",
       "    <tr style=\"text-align: right;\">\n",
       "      <th></th>\n",
       "      <th>0</th>\n",
       "      <th>1</th>\n",
       "      <th>2</th>\n",
       "      <th>3</th>\n",
       "      <th>4</th>\n",
       "      <th>5</th>\n",
       "    </tr>\n",
       "  </thead>\n",
       "  <tbody>\n",
       "    <tr>\n",
       "      <th>0</th>\n",
       "      <td>0.0</td>\n",
       "      <td>0.0</td>\n",
       "      <td>1.0</td>\n",
       "      <td>165349.200</td>\n",
       "      <td>183631.12</td>\n",
       "      <td>71273.23</td>\n",
       "    </tr>\n",
       "    <tr>\n",
       "      <th>1</th>\n",
       "      <td>1.0</td>\n",
       "      <td>0.0</td>\n",
       "      <td>0.0</td>\n",
       "      <td>162342.300</td>\n",
       "      <td>153532.12</td>\n",
       "      <td>198322.22</td>\n",
       "    </tr>\n",
       "    <tr>\n",
       "      <th>2</th>\n",
       "      <td>0.0</td>\n",
       "      <td>1.0</td>\n",
       "      <td>0.0</td>\n",
       "      <td>1536232.400</td>\n",
       "      <td>753522.32</td>\n",
       "      <td>223212.23</td>\n",
       "    </tr>\n",
       "    <tr>\n",
       "      <th>3</th>\n",
       "      <td>0.0</td>\n",
       "      <td>0.0</td>\n",
       "      <td>1.0</td>\n",
       "      <td>1447362.300</td>\n",
       "      <td>133737.13</td>\n",
       "      <td>73363.34</td>\n",
       "    </tr>\n",
       "    <tr>\n",
       "      <th>4</th>\n",
       "      <td>0.0</td>\n",
       "      <td>1.0</td>\n",
       "      <td>0.0</td>\n",
       "      <td>135472.300</td>\n",
       "      <td>123333.23</td>\n",
       "      <td>123321.33</td>\n",
       "    </tr>\n",
       "    <tr>\n",
       "      <th>5</th>\n",
       "      <td>0.0</td>\n",
       "      <td>0.0</td>\n",
       "      <td>1.0</td>\n",
       "      <td>183423.300</td>\n",
       "      <td>99876.32</td>\n",
       "      <td>89701.11</td>\n",
       "    </tr>\n",
       "    <tr>\n",
       "      <th>6</th>\n",
       "      <td>1.0</td>\n",
       "      <td>0.0</td>\n",
       "      <td>0.0</td>\n",
       "      <td>1232433.400</td>\n",
       "      <td>193733.33</td>\n",
       "      <td>122322.12</td>\n",
       "    </tr>\n",
       "    <tr>\n",
       "      <th>7</th>\n",
       "      <td>0.0</td>\n",
       "      <td>1.0</td>\n",
       "      <td>0.0</td>\n",
       "      <td>123232.450</td>\n",
       "      <td>12232.43</td>\n",
       "      <td>100000.11</td>\n",
       "    </tr>\n",
       "    <tr>\n",
       "      <th>8</th>\n",
       "      <td>0.0</td>\n",
       "      <td>0.0</td>\n",
       "      <td>1.0</td>\n",
       "      <td>1846372.980</td>\n",
       "      <td>1127383.32</td>\n",
       "      <td>773543.43</td>\n",
       "    </tr>\n",
       "    <tr>\n",
       "      <th>9</th>\n",
       "      <td>0.0</td>\n",
       "      <td>1.0</td>\n",
       "      <td>0.0</td>\n",
       "      <td>238232.930</td>\n",
       "      <td>28173.23</td>\n",
       "      <td>34002.32</td>\n",
       "    </tr>\n",
       "    <tr>\n",
       "      <th>10</th>\n",
       "      <td>0.0</td>\n",
       "      <td>0.0</td>\n",
       "      <td>1.0</td>\n",
       "      <td>374323.100</td>\n",
       "      <td>197364.32</td>\n",
       "      <td>165022.22</td>\n",
       "    </tr>\n",
       "    <tr>\n",
       "      <th>11</th>\n",
       "      <td>1.0</td>\n",
       "      <td>0.0</td>\n",
       "      <td>0.0</td>\n",
       "      <td>1475743.030</td>\n",
       "      <td>836343.44</td>\n",
       "      <td>173633.32</td>\n",
       "    </tr>\n",
       "    <tr>\n",
       "      <th>12</th>\n",
       "      <td>0.0</td>\n",
       "      <td>0.0</td>\n",
       "      <td>1.0</td>\n",
       "      <td>1745372.300</td>\n",
       "      <td>727662.43</td>\n",
       "      <td>18432.22</td>\n",
       "    </tr>\n",
       "    <tr>\n",
       "      <th>13</th>\n",
       "      <td>1.0</td>\n",
       "      <td>0.0</td>\n",
       "      <td>0.0</td>\n",
       "      <td>1984637.320</td>\n",
       "      <td>784632.32</td>\n",
       "      <td>76432.12</td>\n",
       "    </tr>\n",
       "    <tr>\n",
       "      <th>14</th>\n",
       "      <td>0.0</td>\n",
       "      <td>1.0</td>\n",
       "      <td>0.0</td>\n",
       "      <td>1564932.230</td>\n",
       "      <td>983624.32</td>\n",
       "      <td>198764.33</td>\n",
       "    </tr>\n",
       "    <tr>\n",
       "      <th>15</th>\n",
       "      <td>1.0</td>\n",
       "      <td>0.0</td>\n",
       "      <td>0.0</td>\n",
       "      <td>187432.340</td>\n",
       "      <td>87654.23</td>\n",
       "      <td>98976.33</td>\n",
       "    </tr>\n",
       "    <tr>\n",
       "      <th>16</th>\n",
       "      <td>0.0</td>\n",
       "      <td>0.0</td>\n",
       "      <td>1.0</td>\n",
       "      <td>186483.220</td>\n",
       "      <td>245373.32</td>\n",
       "      <td>235463.33</td>\n",
       "    </tr>\n",
       "    <tr>\n",
       "      <th>17</th>\n",
       "      <td>0.0</td>\n",
       "      <td>1.0</td>\n",
       "      <td>0.0</td>\n",
       "      <td>1383433.100</td>\n",
       "      <td>979835.32</td>\n",
       "      <td>132021.44</td>\n",
       "    </tr>\n",
       "    <tr>\n",
       "      <th>18</th>\n",
       "      <td>0.0</td>\n",
       "      <td>0.0</td>\n",
       "      <td>1.0</td>\n",
       "      <td>1374033.370</td>\n",
       "      <td>1645373.32</td>\n",
       "      <td>980453.32</td>\n",
       "    </tr>\n",
       "    <tr>\n",
       "      <th>19</th>\n",
       "      <td>1.0</td>\n",
       "      <td>0.0</td>\n",
       "      <td>0.0</td>\n",
       "      <td>232223.430</td>\n",
       "      <td>138463.23</td>\n",
       "      <td>121012.22</td>\n",
       "    </tr>\n",
       "    <tr>\n",
       "      <th>20</th>\n",
       "      <td>0.0</td>\n",
       "      <td>0.0</td>\n",
       "      <td>1.0</td>\n",
       "      <td>573843.320</td>\n",
       "      <td>123322.32</td>\n",
       "      <td>98643.33</td>\n",
       "    </tr>\n",
       "    <tr>\n",
       "      <th>21</th>\n",
       "      <td>0.0</td>\n",
       "      <td>1.0</td>\n",
       "      <td>0.0</td>\n",
       "      <td>484833.430</td>\n",
       "      <td>232212.32</td>\n",
       "      <td>123321.55</td>\n",
       "    </tr>\n",
       "    <tr>\n",
       "      <th>22</th>\n",
       "      <td>0.0</td>\n",
       "      <td>1.0</td>\n",
       "      <td>0.0</td>\n",
       "      <td>214732.132</td>\n",
       "      <td>232223.21</td>\n",
       "      <td>132132.43</td>\n",
       "    </tr>\n",
       "    <tr>\n",
       "      <th>23</th>\n",
       "      <td>0.0</td>\n",
       "      <td>0.0</td>\n",
       "      <td>1.0</td>\n",
       "      <td>347332.320</td>\n",
       "      <td>138332.32</td>\n",
       "      <td>98743.32</td>\n",
       "    </tr>\n",
       "  </tbody>\n",
       "</table>\n",
       "</div>"
      ],
      "text/plain": [
       "      0    1    2            3           4          5\n",
       "0   0.0  0.0  1.0   165349.200   183631.12   71273.23\n",
       "1   1.0  0.0  0.0   162342.300   153532.12  198322.22\n",
       "2   0.0  1.0  0.0  1536232.400   753522.32  223212.23\n",
       "3   0.0  0.0  1.0  1447362.300   133737.13   73363.34\n",
       "4   0.0  1.0  0.0   135472.300   123333.23  123321.33\n",
       "5   0.0  0.0  1.0   183423.300    99876.32   89701.11\n",
       "6   1.0  0.0  0.0  1232433.400   193733.33  122322.12\n",
       "7   0.0  1.0  0.0   123232.450    12232.43  100000.11\n",
       "8   0.0  0.0  1.0  1846372.980  1127383.32  773543.43\n",
       "9   0.0  1.0  0.0   238232.930    28173.23   34002.32\n",
       "10  0.0  0.0  1.0   374323.100   197364.32  165022.22\n",
       "11  1.0  0.0  0.0  1475743.030   836343.44  173633.32\n",
       "12  0.0  0.0  1.0  1745372.300   727662.43   18432.22\n",
       "13  1.0  0.0  0.0  1984637.320   784632.32   76432.12\n",
       "14  0.0  1.0  0.0  1564932.230   983624.32  198764.33\n",
       "15  1.0  0.0  0.0   187432.340    87654.23   98976.33\n",
       "16  0.0  0.0  1.0   186483.220   245373.32  235463.33\n",
       "17  0.0  1.0  0.0  1383433.100   979835.32  132021.44\n",
       "18  0.0  0.0  1.0  1374033.370  1645373.32  980453.32\n",
       "19  1.0  0.0  0.0   232223.430   138463.23  121012.22\n",
       "20  0.0  0.0  1.0   573843.320   123322.32   98643.33\n",
       "21  0.0  1.0  0.0   484833.430   232212.32  123321.55\n",
       "22  0.0  1.0  0.0   214732.132   232223.21  132132.43\n",
       "23  0.0  0.0  1.0   347332.320   138332.32   98743.32"
      ]
     },
     "execution_count": 12,
     "metadata": {},
     "output_type": "execute_result"
    }
   ],
   "source": [
    "pd.DataFrame(x)"
   ]
  },
  {
   "cell_type": "code",
   "execution_count": 13,
   "metadata": {},
   "outputs": [],
   "source": [
    "from sklearn.model_selection import train_test_split\n",
    "x_tr, x_te , y_tr , y_te =train_test_split(x,y,test_size=0.2)"
   ]
  },
  {
   "cell_type": "code",
   "execution_count": 14,
   "metadata": {},
   "outputs": [
    {
     "data": {
      "text/plain": [
       "array([1763523.12, 1835522.12, 1735351.32,  231012.23,  198322.12])"
      ]
     },
     "execution_count": 14,
     "metadata": {},
     "output_type": "execute_result"
    }
   ],
   "source": [
    "y_te"
   ]
  },
  {
   "cell_type": "code",
   "execution_count": 15,
   "metadata": {},
   "outputs": [],
   "source": [
    "# lets make the model of linear regression"
   ]
  },
  {
   "cell_type": "code",
   "execution_count": 16,
   "metadata": {},
   "outputs": [
    {
     "data": {
      "text/plain": [
       "LinearRegression(copy_X=True, fit_intercept=True, n_jobs=None,\n",
       "         normalize=False)"
      ]
     },
     "execution_count": 16,
     "metadata": {},
     "output_type": "execute_result"
    }
   ],
   "source": [
    "from sklearn.linear_model import LinearRegression\n",
    "regrs = LinearRegression()\n",
    "regrs.fit(x_tr , y_tr)"
   ]
  },
  {
   "cell_type": "code",
   "execution_count": 17,
   "metadata": {},
   "outputs": [],
   "source": [
    "y_pred = regrs.predict(x_te)"
   ]
  },
  {
   "cell_type": "code",
   "execution_count": 18,
   "metadata": {},
   "outputs": [
    {
     "data": {
      "text/plain": [
       "array([2623111.68363973, 1470367.47759544, 1703077.30678813,\n",
       "        -33293.55234824,  237776.37254354])"
      ]
     },
     "execution_count": 18,
     "metadata": {},
     "output_type": "execute_result"
    }
   ],
   "source": [
    "y_pred"
   ]
  },
  {
   "cell_type": "code",
   "execution_count": 19,
   "metadata": {},
   "outputs": [
    {
     "data": {
      "text/plain": [
       "array([1763523.12, 1835522.12, 1735351.32,  231012.23,  198322.12])"
      ]
     },
     "execution_count": 19,
     "metadata": {},
     "output_type": "execute_result"
    }
   ],
   "source": [
    "y_te"
   ]
  },
  {
   "cell_type": "code",
   "execution_count": 20,
   "metadata": {},
   "outputs": [],
   "source": [
    "# check r-square value"
   ]
  },
  {
   "cell_type": "code",
   "execution_count": 21,
   "metadata": {},
   "outputs": [
    {
     "data": {
      "text/plain": [
       "0.8031214368087312"
      ]
     },
     "execution_count": 21,
     "metadata": {},
     "output_type": "execute_result"
    }
   ],
   "source": [
    "r2_score(y_pred,y_te)"
   ]
  },
  {
   "cell_type": "code",
   "execution_count": 22,
   "metadata": {},
   "outputs": [
    {
     "data": {
      "text/plain": [
       "array([-4.24613189e+04,  1.41447001e+05, -9.89856825e+04,  1.36020070e+00,\n",
       "       -7.55449676e-01,  1.54190339e+00])"
      ]
     },
     "execution_count": 22,
     "metadata": {},
     "output_type": "execute_result"
    }
   ],
   "source": [
    "regrs.coef_"
   ]
  },
  {
   "cell_type": "code",
   "execution_count": 23,
   "metadata": {},
   "outputs": [
    {
     "data": {
      "text/plain": [
       "-130388.33278378763"
      ]
     },
     "execution_count": 23,
     "metadata": {},
     "output_type": "execute_result"
    }
   ],
   "source": [
    "regrs.intercept_"
   ]
  },
  {
   "cell_type": "markdown",
   "metadata": {},
   "source": [
    "# another method of regression model"
   ]
  },
  {
   "cell_type": "code",
   "execution_count": 24,
   "metadata": {},
   "outputs": [],
   "source": [
    "import statsmodels.formula.api as sm\n"
   ]
  },
  {
   "cell_type": "code",
   "execution_count": 25,
   "metadata": {},
   "outputs": [],
   "source": [
    "regressor_ols = sm.OLS(endog=y_tr , exog= x_tr).fit()\n"
   ]
  },
  {
   "cell_type": "code",
   "execution_count": 26,
   "metadata": {},
   "outputs": [
    {
     "name": "stderr",
     "output_type": "stream",
     "text": [
      "C:\\Users\\atulk\\Anaconda3\\lib\\site-packages\\scipy\\stats\\stats.py:1416: UserWarning: kurtosistest only valid for n>=20 ... continuing anyway, n=19\n",
      "  \"anyway, n=%i\" % int(n))\n"
     ]
    },
    {
     "data": {
      "text/html": [
       "<table class=\"simpletable\">\n",
       "<caption>OLS Regression Results</caption>\n",
       "<tr>\n",
       "  <th>Dep. Variable:</th>            <td>y</td>        <th>  R-squared:         </th> <td>   0.965</td>\n",
       "</tr>\n",
       "<tr>\n",
       "  <th>Model:</th>                   <td>OLS</td>       <th>  Adj. R-squared:    </th> <td>   0.952</td>\n",
       "</tr>\n",
       "<tr>\n",
       "  <th>Method:</th>             <td>Least Squares</td>  <th>  F-statistic:       </th> <td>   72.25</td>\n",
       "</tr>\n",
       "<tr>\n",
       "  <th>Date:</th>             <td>Thu, 01 Aug 2019</td> <th>  Prob (F-statistic):</th> <td>5.07e-09</td>\n",
       "</tr>\n",
       "<tr>\n",
       "  <th>Time:</th>                 <td>22:30:41</td>     <th>  Log-Likelihood:    </th> <td> -251.12</td>\n",
       "</tr>\n",
       "<tr>\n",
       "  <th>No. Observations:</th>      <td>    19</td>      <th>  AIC:               </th> <td>   514.2</td>\n",
       "</tr>\n",
       "<tr>\n",
       "  <th>Df Residuals:</th>          <td>    13</td>      <th>  BIC:               </th> <td>   519.9</td>\n",
       "</tr>\n",
       "<tr>\n",
       "  <th>Df Model:</th>              <td>     5</td>      <th>                     </th>     <td> </td>   \n",
       "</tr>\n",
       "<tr>\n",
       "  <th>Covariance Type:</th>      <td>nonrobust</td>    <th>                     </th>     <td> </td>   \n",
       "</tr>\n",
       "</table>\n",
       "<table class=\"simpletable\">\n",
       "<tr>\n",
       "   <td></td>     <th>coef</th>     <th>std err</th>      <th>t</th>      <th>P>|t|</th>  <th>[0.025</th>    <th>0.975]</th>  \n",
       "</tr>\n",
       "<tr>\n",
       "  <th>x1</th> <td>-1.728e+05</td> <td> 1.09e+05</td> <td>   -1.580</td> <td> 0.138</td> <td>-4.09e+05</td> <td> 6.36e+04</td>\n",
       "</tr>\n",
       "<tr>\n",
       "  <th>x2</th> <td> 1.106e+04</td> <td> 7.37e+04</td> <td>    0.150</td> <td> 0.883</td> <td>-1.48e+05</td> <td>  1.7e+05</td>\n",
       "</tr>\n",
       "<tr>\n",
       "  <th>x3</th> <td>-2.294e+05</td> <td>  9.3e+04</td> <td>   -2.465</td> <td> 0.028</td> <td> -4.3e+05</td> <td>-2.84e+04</td>\n",
       "</tr>\n",
       "<tr>\n",
       "  <th>x4</th> <td>    1.3602</td> <td>    0.118</td> <td>   11.535</td> <td> 0.000</td> <td>    1.105</td> <td>    1.615</td>\n",
       "</tr>\n",
       "<tr>\n",
       "  <th>x5</th> <td>   -0.7554</td> <td>    0.255</td> <td>   -2.963</td> <td> 0.011</td> <td>   -1.306</td> <td>   -0.205</td>\n",
       "</tr>\n",
       "<tr>\n",
       "  <th>x6</th> <td>    1.5419</td> <td>    0.385</td> <td>    4.009</td> <td> 0.001</td> <td>    0.711</td> <td>    2.373</td>\n",
       "</tr>\n",
       "</table>\n",
       "<table class=\"simpletable\">\n",
       "<tr>\n",
       "  <th>Omnibus:</th>       <td> 3.891</td> <th>  Durbin-Watson:     </th> <td>   2.235</td>\n",
       "</tr>\n",
       "<tr>\n",
       "  <th>Prob(Omnibus):</th> <td> 0.143</td> <th>  Jarque-Bera (JB):  </th> <td>   1.892</td>\n",
       "</tr>\n",
       "<tr>\n",
       "  <th>Skew:</th>          <td>-0.376</td> <th>  Prob(JB):          </th> <td>   0.388</td>\n",
       "</tr>\n",
       "<tr>\n",
       "  <th>Kurtosis:</th>      <td> 4.350</td> <th>  Cond. No.          </th> <td>3.88e+06</td>\n",
       "</tr>\n",
       "</table><br/><br/>Warnings:<br/>[1] Standard Errors assume that the covariance matrix of the errors is correctly specified.<br/>[2] The condition number is large, 3.88e+06. This might indicate that there are<br/>strong multicollinearity or other numerical problems."
      ],
      "text/plain": [
       "<class 'statsmodels.iolib.summary.Summary'>\n",
       "\"\"\"\n",
       "                            OLS Regression Results                            \n",
       "==============================================================================\n",
       "Dep. Variable:                      y   R-squared:                       0.965\n",
       "Model:                            OLS   Adj. R-squared:                  0.952\n",
       "Method:                 Least Squares   F-statistic:                     72.25\n",
       "Date:                Thu, 01 Aug 2019   Prob (F-statistic):           5.07e-09\n",
       "Time:                        22:30:41   Log-Likelihood:                -251.12\n",
       "No. Observations:                  19   AIC:                             514.2\n",
       "Df Residuals:                      13   BIC:                             519.9\n",
       "Df Model:                           5                                         \n",
       "Covariance Type:            nonrobust                                         \n",
       "==============================================================================\n",
       "                 coef    std err          t      P>|t|      [0.025      0.975]\n",
       "------------------------------------------------------------------------------\n",
       "x1         -1.728e+05   1.09e+05     -1.580      0.138   -4.09e+05    6.36e+04\n",
       "x2          1.106e+04   7.37e+04      0.150      0.883   -1.48e+05     1.7e+05\n",
       "x3         -2.294e+05    9.3e+04     -2.465      0.028    -4.3e+05   -2.84e+04\n",
       "x4             1.3602      0.118     11.535      0.000       1.105       1.615\n",
       "x5            -0.7554      0.255     -2.963      0.011      -1.306      -0.205\n",
       "x6             1.5419      0.385      4.009      0.001       0.711       2.373\n",
       "==============================================================================\n",
       "Omnibus:                        3.891   Durbin-Watson:                   2.235\n",
       "Prob(Omnibus):                  0.143   Jarque-Bera (JB):                1.892\n",
       "Skew:                          -0.376   Prob(JB):                        0.388\n",
       "Kurtosis:                       4.350   Cond. No.                     3.88e+06\n",
       "==============================================================================\n",
       "\n",
       "Warnings:\n",
       "[1] Standard Errors assume that the covariance matrix of the errors is correctly specified.\n",
       "[2] The condition number is large, 3.88e+06. This might indicate that there are\n",
       "strong multicollinearity or other numerical problems.\n",
       "\"\"\""
      ]
     },
     "execution_count": 26,
     "metadata": {},
     "output_type": "execute_result"
    }
   ],
   "source": [
    "regressor_ols.summary()"
   ]
  },
  {
   "cell_type": "code",
   "execution_count": null,
   "metadata": {},
   "outputs": [],
   "source": []
  },
  {
   "cell_type": "code",
   "execution_count": null,
   "metadata": {},
   "outputs": [],
   "source": []
  }
 ],
 "metadata": {
  "kernelspec": {
   "display_name": "Python 3",
   "language": "python",
   "name": "python3"
  },
  "language_info": {
   "codemirror_mode": {
    "name": "ipython",
    "version": 3
   },
   "file_extension": ".py",
   "mimetype": "text/x-python",
   "name": "python",
   "nbconvert_exporter": "python",
   "pygments_lexer": "ipython3",
   "version": "3.7.3"
  }
 },
 "nbformat": 4,
 "nbformat_minor": 2
}
